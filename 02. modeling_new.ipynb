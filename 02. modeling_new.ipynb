{
 "cells": [
  {
   "cell_type": "code",
   "execution_count": 1,
   "metadata": {},
   "outputs": [],
   "source": [
    "import sys\n",
    "sys.path.insert(0, './utils/')\n",
    "# import feature_selection as fs\n",
    "import classification_models as cm\n",
    "import feature_selection as fs"
   ]
  },
  {
   "cell_type": "code",
   "execution_count": 2,
   "metadata": {},
   "outputs": [],
   "source": [
    "import pickle\n",
    "import pandas as pd\n",
    "from sklearn.model_selection import train_test_split"
   ]
  },
  {
   "cell_type": "code",
   "execution_count": 3,
   "metadata": {},
   "outputs": [
    {
     "data": {
      "text/plain": [
       "<module 'feature_selection' from 'E:\\\\github\\\\lending_club\\\\lending_club_loans_default_prediction\\\\./utils\\\\feature_selection.py'>"
      ]
     },
     "execution_count": 3,
     "metadata": {},
     "output_type": "execute_result"
    }
   ],
   "source": [
    "import importlib\n",
    "importlib.reload(cm)\n",
    "importlib.reload(fs)"
   ]
  },
  {
   "cell_type": "code",
   "execution_count": 4,
   "metadata": {},
   "outputs": [],
   "source": [
    "processed_data_filename = 'processed_data_20230517_223610.pickle'\n",
    "processed_data_path = f'./data/{processed_data_filename}'\n",
    "\n",
    "df = pd.read_pickle(processed_data_path)"
   ]
  },
  {
   "cell_type": "code",
   "execution_count": 5,
   "metadata": {},
   "outputs": [
    {
     "data": {
      "text/plain": [
       "(876170, 115)"
      ]
     },
     "execution_count": 5,
     "metadata": {},
     "output_type": "execute_result"
    }
   ],
   "source": [
    "df.shape"
   ]
  },
  {
   "cell_type": "code",
   "execution_count": 6,
   "metadata": {},
   "outputs": [
    {
     "data": {
      "text/html": [
       "<div>\n",
       "<style scoped>\n",
       "    .dataframe tbody tr th:only-of-type {\n",
       "        vertical-align: middle;\n",
       "    }\n",
       "\n",
       "    .dataframe tbody tr th {\n",
       "        vertical-align: top;\n",
       "    }\n",
       "\n",
       "    .dataframe thead th {\n",
       "        text-align: right;\n",
       "    }\n",
       "</style>\n",
       "<table border=\"1\" class=\"dataframe\">\n",
       "  <thead>\n",
       "    <tr style=\"text-align: right;\">\n",
       "      <th></th>\n",
       "      <th>loan_amnt</th>\n",
       "      <th>int_rate</th>\n",
       "      <th>annual_inc</th>\n",
       "      <th>dti</th>\n",
       "      <th>delinq_2yrs</th>\n",
       "      <th>inq_last_6mths</th>\n",
       "      <th>mths_since_last_delinq</th>\n",
       "      <th>mths_since_last_record</th>\n",
       "      <th>open_acc</th>\n",
       "      <th>pub_rec</th>\n",
       "      <th>...</th>\n",
       "      <th>home_ownership_OWN</th>\n",
       "      <th>home_ownership_RENT</th>\n",
       "      <th>home_ownership_nan</th>\n",
       "      <th>next_pymnt_d_Jan-2016</th>\n",
       "      <th>next_pymnt_d_Mar-2016</th>\n",
       "      <th>next_pymnt_d_nan</th>\n",
       "      <th>verification_status_Source Verified</th>\n",
       "      <th>verification_status_Verified</th>\n",
       "      <th>verification_status_nan</th>\n",
       "      <th>label</th>\n",
       "    </tr>\n",
       "  </thead>\n",
       "  <tbody>\n",
       "    <tr>\n",
       "      <th>0</th>\n",
       "      <td>-1.203909</td>\n",
       "      <td>-0.616915</td>\n",
       "      <td>-1.301341</td>\n",
       "      <td>1.217976</td>\n",
       "      <td>-0.453552</td>\n",
       "      <td>0.381301</td>\n",
       "      <td>-0.093288</td>\n",
       "      <td>-0.013627</td>\n",
       "      <td>-1.400648</td>\n",
       "      <td>-0.424777</td>\n",
       "      <td>...</td>\n",
       "      <td>-0.330426</td>\n",
       "      <td>1.221304</td>\n",
       "      <td>0.0</td>\n",
       "      <td>-0.296551</td>\n",
       "      <td>-0.00881</td>\n",
       "      <td>1.569560</td>\n",
       "      <td>-0.770581</td>\n",
       "      <td>1.430559</td>\n",
       "      <td>0.0</td>\n",
       "      <td>0</td>\n",
       "    </tr>\n",
       "    <tr>\n",
       "      <th>1</th>\n",
       "      <td>-1.377846</td>\n",
       "      <td>0.516883</td>\n",
       "      <td>-1.241445</td>\n",
       "      <td>-1.641569</td>\n",
       "      <td>-0.453552</td>\n",
       "      <td>2.633161</td>\n",
       "      <td>-0.093288</td>\n",
       "      <td>-0.013627</td>\n",
       "      <td>-1.400648</td>\n",
       "      <td>-0.424777</td>\n",
       "      <td>...</td>\n",
       "      <td>-0.330426</td>\n",
       "      <td>1.221304</td>\n",
       "      <td>0.0</td>\n",
       "      <td>-0.296551</td>\n",
       "      <td>-0.00881</td>\n",
       "      <td>1.569560</td>\n",
       "      <td>1.297722</td>\n",
       "      <td>-0.699027</td>\n",
       "      <td>0.0</td>\n",
       "      <td>1</td>\n",
       "    </tr>\n",
       "    <tr>\n",
       "      <th>2</th>\n",
       "      <td>-1.377846</td>\n",
       "      <td>0.686216</td>\n",
       "      <td>-1.301341</td>\n",
       "      <td>-1.194287</td>\n",
       "      <td>-0.453552</td>\n",
       "      <td>1.507231</td>\n",
       "      <td>-0.093288</td>\n",
       "      <td>-0.013627</td>\n",
       "      <td>-1.400648</td>\n",
       "      <td>-0.424777</td>\n",
       "      <td>...</td>\n",
       "      <td>-0.330426</td>\n",
       "      <td>1.221304</td>\n",
       "      <td>0.0</td>\n",
       "      <td>-0.296551</td>\n",
       "      <td>-0.00881</td>\n",
       "      <td>1.569560</td>\n",
       "      <td>-0.770581</td>\n",
       "      <td>-0.699027</td>\n",
       "      <td>0.0</td>\n",
       "      <td>0</td>\n",
       "    </tr>\n",
       "    <tr>\n",
       "      <th>3</th>\n",
       "      <td>-0.582706</td>\n",
       "      <td>0.080052</td>\n",
       "      <td>-0.666436</td>\n",
       "      <td>0.243131</td>\n",
       "      <td>-0.453552</td>\n",
       "      <td>0.381301</td>\n",
       "      <td>0.191932</td>\n",
       "      <td>-0.013627</td>\n",
       "      <td>-0.300568</td>\n",
       "      <td>-0.424777</td>\n",
       "      <td>...</td>\n",
       "      <td>-0.330426</td>\n",
       "      <td>1.221304</td>\n",
       "      <td>0.0</td>\n",
       "      <td>-0.296551</td>\n",
       "      <td>-0.00881</td>\n",
       "      <td>1.569560</td>\n",
       "      <td>1.297722</td>\n",
       "      <td>-0.699027</td>\n",
       "      <td>0.0</td>\n",
       "      <td>0</td>\n",
       "    </tr>\n",
       "    <tr>\n",
       "      <th>4</th>\n",
       "      <td>-1.377846</td>\n",
       "      <td>-0.116277</td>\n",
       "      <td>0.255973</td>\n",
       "      <td>-0.019376</td>\n",
       "      <td>-0.453552</td>\n",
       "      <td>-0.744628</td>\n",
       "      <td>0.405847</td>\n",
       "      <td>-0.013627</td>\n",
       "      <td>0.799513</td>\n",
       "      <td>-0.424777</td>\n",
       "      <td>...</td>\n",
       "      <td>-0.330426</td>\n",
       "      <td>1.221304</td>\n",
       "      <td>0.0</td>\n",
       "      <td>-0.296551</td>\n",
       "      <td>-0.00881</td>\n",
       "      <td>-0.637121</td>\n",
       "      <td>1.297722</td>\n",
       "      <td>-0.699027</td>\n",
       "      <td>0.0</td>\n",
       "      <td>0</td>\n",
       "    </tr>\n",
       "  </tbody>\n",
       "</table>\n",
       "<p>5 rows × 115 columns</p>\n",
       "</div>"
      ],
      "text/plain": [
       "   loan_amnt  int_rate  annual_inc       dti  delinq_2yrs  inq_last_6mths  \\\n",
       "0  -1.203909 -0.616915   -1.301341  1.217976    -0.453552        0.381301   \n",
       "1  -1.377846  0.516883   -1.241445 -1.641569    -0.453552        2.633161   \n",
       "2  -1.377846  0.686216   -1.301341 -1.194287    -0.453552        1.507231   \n",
       "3  -0.582706  0.080052   -0.666436  0.243131    -0.453552        0.381301   \n",
       "4  -1.377846 -0.116277    0.255973 -0.019376    -0.453552       -0.744628   \n",
       "\n",
       "   mths_since_last_delinq  mths_since_last_record  open_acc   pub_rec  ...  \\\n",
       "0               -0.093288               -0.013627 -1.400648 -0.424777  ...   \n",
       "1               -0.093288               -0.013627 -1.400648 -0.424777  ...   \n",
       "2               -0.093288               -0.013627 -1.400648 -0.424777  ...   \n",
       "3                0.191932               -0.013627 -0.300568 -0.424777  ...   \n",
       "4                0.405847               -0.013627  0.799513 -0.424777  ...   \n",
       "\n",
       "   home_ownership_OWN  home_ownership_RENT  home_ownership_nan  \\\n",
       "0           -0.330426             1.221304                 0.0   \n",
       "1           -0.330426             1.221304                 0.0   \n",
       "2           -0.330426             1.221304                 0.0   \n",
       "3           -0.330426             1.221304                 0.0   \n",
       "4           -0.330426             1.221304                 0.0   \n",
       "\n",
       "   next_pymnt_d_Jan-2016  next_pymnt_d_Mar-2016  next_pymnt_d_nan  \\\n",
       "0              -0.296551               -0.00881          1.569560   \n",
       "1              -0.296551               -0.00881          1.569560   \n",
       "2              -0.296551               -0.00881          1.569560   \n",
       "3              -0.296551               -0.00881          1.569560   \n",
       "4              -0.296551               -0.00881         -0.637121   \n",
       "\n",
       "   verification_status_Source Verified  verification_status_Verified  \\\n",
       "0                            -0.770581                      1.430559   \n",
       "1                             1.297722                     -0.699027   \n",
       "2                            -0.770581                     -0.699027   \n",
       "3                             1.297722                     -0.699027   \n",
       "4                             1.297722                     -0.699027   \n",
       "\n",
       "   verification_status_nan  label  \n",
       "0                      0.0      0  \n",
       "1                      0.0      1  \n",
       "2                      0.0      0  \n",
       "3                      0.0      0  \n",
       "4                      0.0      0  \n",
       "\n",
       "[5 rows x 115 columns]"
      ]
     },
     "execution_count": 6,
     "metadata": {},
     "output_type": "execute_result"
    }
   ],
   "source": [
    "df.head()"
   ]
  },
  {
   "cell_type": "code",
   "execution_count": 7,
   "metadata": {},
   "outputs": [
    {
     "data": {
      "text/plain": [
       "Index(['loan_amnt', 'int_rate', 'annual_inc', 'dti', 'delinq_2yrs',\n",
       "       'inq_last_6mths', 'mths_since_last_delinq', 'mths_since_last_record',\n",
       "       'open_acc', 'pub_rec',\n",
       "       ...\n",
       "       'home_ownership_OWN', 'home_ownership_RENT', 'home_ownership_nan',\n",
       "       'next_pymnt_d_Jan-2016', 'next_pymnt_d_Mar-2016', 'next_pymnt_d_nan',\n",
       "       'verification_status_Source Verified', 'verification_status_Verified',\n",
       "       'verification_status_nan', 'label'],\n",
       "      dtype='object', length=115)"
      ]
     },
     "execution_count": 7,
     "metadata": {},
     "output_type": "execute_result"
    }
   ],
   "source": [
    "df.columns"
   ]
  },
  {
   "cell_type": "code",
   "execution_count": 8,
   "metadata": {},
   "outputs": [],
   "source": [
    "X_processed = df.drop(columns = 'label')\n",
    "y = df['label']"
   ]
  },
  {
   "cell_type": "code",
   "execution_count": 9,
   "metadata": {},
   "outputs": [],
   "source": [
    "# Split the data into train and test sets\n",
    "\n",
    "X_train, X_test, y_train, y_test = train_test_split(X_processed, y, test_size=0.3, random_state=42)"
   ]
  },
  {
   "cell_type": "code",
   "execution_count": null,
   "metadata": {},
   "outputs": [
    {
     "name": "stderr",
     "output_type": "stream",
     "text": [
      "INFO:root:Starting feature selection...\n"
     ]
    }
   ],
   "source": [
    "# Perform feature selection - without telling optimal number of features\n",
    "\n",
    "selected_features = fs.select_features(X_train=X_train, \n",
    "                                       y_train=y_train, \n",
    "                                       # n_features_to_select=30,\n",
    "                                       ml_type='classification',                 \n",
    "                                       n_samples=50000)"
   ]
  },
  {
   "cell_type": "code",
   "execution_count": null,
   "metadata": {},
   "outputs": [],
   "source": [
    "best_model = cm.run_classification_models(X_train=X_train[selected_features], \n",
    "                                          y_train=y_train, \n",
    "                                          X_test=X_test[selected_features], \n",
    "                                          y_test=y_test, \n",
    "                                          n_samples = 50000, \n",
    "                                          scoring_metric='f1 score')"
   ]
  },
  {
   "cell_type": "code",
   "execution_count": null,
   "metadata": {},
   "outputs": [],
   "source": [
    "cm.plot_top_n_features(best_model, X_train.columns, 10)"
   ]
  },
  {
   "cell_type": "code",
   "execution_count": null,
   "metadata": {},
   "outputs": [],
   "source": []
  }
 ],
 "metadata": {
  "kernelspec": {
   "display_name": "Python 3 (ipykernel)",
   "language": "python",
   "name": "python3"
  },
  "language_info": {
   "codemirror_mode": {
    "name": "ipython",
    "version": 3
   },
   "file_extension": ".py",
   "mimetype": "text/x-python",
   "name": "python",
   "nbconvert_exporter": "python",
   "pygments_lexer": "ipython3",
   "version": "3.10.9"
  }
 },
 "nbformat": 4,
 "nbformat_minor": 4
}
