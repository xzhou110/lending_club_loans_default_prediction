{
 "cells": [
  {
   "cell_type": "code",
   "execution_count": 15,
   "metadata": {},
   "outputs": [],
   "source": [
    "import sys\n",
    "sys.path.insert(0, './utility/')\n",
    "import classification_models as cm"
   ]
  },
  {
   "cell_type": "code",
   "execution_count": 1,
   "metadata": {},
   "outputs": [],
   "source": [
    "import pickle\n",
    "import pandas as pd"
   ]
  },
  {
   "cell_type": "code",
   "execution_count": 62,
   "metadata": {},
   "outputs": [
    {
     "data": {
      "text/plain": [
       "<module 'classification_models' from './utility\\\\classification_models.py'>"
      ]
     },
     "execution_count": 62,
     "metadata": {},
     "output_type": "execute_result"
    }
   ],
   "source": [
    "import importlib\n",
    "importlib.reload(cm)"
   ]
  },
  {
   "cell_type": "code",
   "execution_count": 56,
   "metadata": {},
   "outputs": [],
   "source": [
    "processed_data_filename = 'processed_data_20230420_193249.pickle'\n",
    "processed_data_path = f'./data/{processed_data_filename}'\n",
    "\n",
    "df = pd.read_pickle(processed_data_path)"
   ]
  },
  {
   "cell_type": "code",
   "execution_count": 57,
   "metadata": {},
   "outputs": [
    {
     "data": {
      "text/plain": [
       "(876170, 117)"
      ]
     },
     "execution_count": 57,
     "metadata": {},
     "output_type": "execute_result"
    }
   ],
   "source": [
    "df.shape"
   ]
  },
  {
   "cell_type": "code",
   "execution_count": 58,
   "metadata": {},
   "outputs": [
    {
     "data": {
      "text/html": [
       "<div>\n",
       "<style scoped>\n",
       "    .dataframe tbody tr th:only-of-type {\n",
       "        vertical-align: middle;\n",
       "    }\n",
       "\n",
       "    .dataframe tbody tr th {\n",
       "        vertical-align: top;\n",
       "    }\n",
       "\n",
       "    .dataframe thead th {\n",
       "        text-align: right;\n",
       "    }\n",
       "</style>\n",
       "<table border=\"1\" class=\"dataframe\">\n",
       "  <thead>\n",
       "    <tr style=\"text-align: right;\">\n",
       "      <th></th>\n",
       "      <th>loan_amnt</th>\n",
       "      <th>int_rate</th>\n",
       "      <th>installment</th>\n",
       "      <th>annual_inc</th>\n",
       "      <th>dti</th>\n",
       "      <th>delinq_2yrs</th>\n",
       "      <th>inq_last_6mths</th>\n",
       "      <th>mths_since_last_delinq</th>\n",
       "      <th>mths_since_last_record</th>\n",
       "      <th>open_acc</th>\n",
       "      <th>...</th>\n",
       "      <th>home_ownership_nan</th>\n",
       "      <th>verification_status_Source Verified</th>\n",
       "      <th>verification_status_Verified</th>\n",
       "      <th>verification_status_nan</th>\n",
       "      <th>term_ 60 months</th>\n",
       "      <th>term_nan</th>\n",
       "      <th>next_pymnt_d_Jan-2016</th>\n",
       "      <th>next_pymnt_d_Mar-2016</th>\n",
       "      <th>next_pymnt_d_nan</th>\n",
       "      <th>label</th>\n",
       "    </tr>\n",
       "  </thead>\n",
       "  <tbody>\n",
       "    <tr>\n",
       "      <th>0</th>\n",
       "      <td>-1.384536</td>\n",
       "      <td>-0.704540</td>\n",
       "      <td>-1.409446</td>\n",
       "      <td>-0.149701</td>\n",
       "      <td>1.483957</td>\n",
       "      <td>-0.416821</td>\n",
       "      <td>0.462971</td>\n",
       "      <td>-0.064410</td>\n",
       "      <td>0.000032</td>\n",
       "      <td>-0.029530</td>\n",
       "      <td>...</td>\n",
       "      <td>0</td>\n",
       "      <td>0</td>\n",
       "      <td>1</td>\n",
       "      <td>0</td>\n",
       "      <td>0</td>\n",
       "      <td>0</td>\n",
       "      <td>0</td>\n",
       "      <td>0</td>\n",
       "      <td>1</td>\n",
       "      <td>0</td>\n",
       "    </tr>\n",
       "    <tr>\n",
       "      <th>1</th>\n",
       "      <td>-0.184325</td>\n",
       "      <td>0.648016</td>\n",
       "      <td>-0.194951</td>\n",
       "      <td>-1.449777</td>\n",
       "      <td>-0.047680</td>\n",
       "      <td>-0.416821</td>\n",
       "      <td>-0.729534</td>\n",
       "      <td>-0.064410</td>\n",
       "      <td>0.000032</td>\n",
       "      <td>-0.029530</td>\n",
       "      <td>...</td>\n",
       "      <td>0</td>\n",
       "      <td>1</td>\n",
       "      <td>0</td>\n",
       "      <td>0</td>\n",
       "      <td>1</td>\n",
       "      <td>0</td>\n",
       "      <td>0</td>\n",
       "      <td>0</td>\n",
       "      <td>1</td>\n",
       "      <td>1</td>\n",
       "    </tr>\n",
       "    <tr>\n",
       "      <th>2</th>\n",
       "      <td>-0.184325</td>\n",
       "      <td>0.850022</td>\n",
       "      <td>-0.194951</td>\n",
       "      <td>-0.149701</td>\n",
       "      <td>-1.415431</td>\n",
       "      <td>-0.416821</td>\n",
       "      <td>1.655476</td>\n",
       "      <td>-0.064410</td>\n",
       "      <td>0.000032</td>\n",
       "      <td>-0.029530</td>\n",
       "      <td>...</td>\n",
       "      <td>0</td>\n",
       "      <td>0</td>\n",
       "      <td>0</td>\n",
       "      <td>0</td>\n",
       "      <td>0</td>\n",
       "      <td>0</td>\n",
       "      <td>0</td>\n",
       "      <td>0</td>\n",
       "      <td>1</td>\n",
       "      <td>0</td>\n",
       "    </tr>\n",
       "    <tr>\n",
       "      <th>3</th>\n",
       "      <td>-0.634404</td>\n",
       "      <td>0.126901</td>\n",
       "      <td>-0.434002</td>\n",
       "      <td>-0.736592</td>\n",
       "      <td>0.312255</td>\n",
       "      <td>-0.416821</td>\n",
       "      <td>0.462971</td>\n",
       "      <td>0.318427</td>\n",
       "      <td>0.000032</td>\n",
       "      <td>-0.293277</td>\n",
       "      <td>...</td>\n",
       "      <td>0</td>\n",
       "      <td>1</td>\n",
       "      <td>0</td>\n",
       "      <td>0</td>\n",
       "      <td>0</td>\n",
       "      <td>0</td>\n",
       "      <td>0</td>\n",
       "      <td>0</td>\n",
       "      <td>1</td>\n",
       "      <td>0</td>\n",
       "    </tr>\n",
       "    <tr>\n",
       "      <th>4</th>\n",
       "      <td>-0.184325</td>\n",
       "      <td>-0.107308</td>\n",
       "      <td>-0.194951</td>\n",
       "      <td>0.407475</td>\n",
       "      <td>-0.003263</td>\n",
       "      <td>-0.416821</td>\n",
       "      <td>-0.729534</td>\n",
       "      <td>0.605554</td>\n",
       "      <td>0.000032</td>\n",
       "      <td>1.025461</td>\n",
       "      <td>...</td>\n",
       "      <td>0</td>\n",
       "      <td>1</td>\n",
       "      <td>0</td>\n",
       "      <td>0</td>\n",
       "      <td>1</td>\n",
       "      <td>0</td>\n",
       "      <td>0</td>\n",
       "      <td>0</td>\n",
       "      <td>0</td>\n",
       "      <td>0</td>\n",
       "    </tr>\n",
       "  </tbody>\n",
       "</table>\n",
       "<p>5 rows × 117 columns</p>\n",
       "</div>"
      ],
      "text/plain": [
       "   loan_amnt  int_rate  installment  annual_inc       dti  delinq_2yrs  \\\n",
       "0  -1.384536 -0.704540    -1.409446   -0.149701  1.483957    -0.416821   \n",
       "1  -0.184325  0.648016    -0.194951   -1.449777 -0.047680    -0.416821   \n",
       "2  -0.184325  0.850022    -0.194951   -0.149701 -1.415431    -0.416821   \n",
       "3  -0.634404  0.126901    -0.434002   -0.736592  0.312255    -0.416821   \n",
       "4  -0.184325 -0.107308    -0.194951    0.407475 -0.003263    -0.416821   \n",
       "\n",
       "   inq_last_6mths  mths_since_last_delinq  mths_since_last_record  open_acc  \\\n",
       "0        0.462971               -0.064410                0.000032 -0.029530   \n",
       "1       -0.729534               -0.064410                0.000032 -0.029530   \n",
       "2        1.655476               -0.064410                0.000032 -0.029530   \n",
       "3        0.462971                0.318427                0.000032 -0.293277   \n",
       "4       -0.729534                0.605554                0.000032  1.025461   \n",
       "\n",
       "   ...    home_ownership_nan  verification_status_Source Verified  \\\n",
       "0  ...                     0                                    0   \n",
       "1  ...                     0                                    1   \n",
       "2  ...                     0                                    0   \n",
       "3  ...                     0                                    1   \n",
       "4  ...                     0                                    1   \n",
       "\n",
       "   verification_status_Verified  verification_status_nan  term_ 60 months  \\\n",
       "0                             1                        0                0   \n",
       "1                             0                        0                1   \n",
       "2                             0                        0                0   \n",
       "3                             0                        0                0   \n",
       "4                             0                        0                1   \n",
       "\n",
       "   term_nan  next_pymnt_d_Jan-2016  next_pymnt_d_Mar-2016  next_pymnt_d_nan  \\\n",
       "0         0                      0                      0                 1   \n",
       "1         0                      0                      0                 1   \n",
       "2         0                      0                      0                 1   \n",
       "3         0                      0                      0                 1   \n",
       "4         0                      0                      0                 0   \n",
       "\n",
       "   label  \n",
       "0      0  \n",
       "1      1  \n",
       "2      0  \n",
       "3      0  \n",
       "4      0  \n",
       "\n",
       "[5 rows x 117 columns]"
      ]
     },
     "execution_count": 58,
     "metadata": {},
     "output_type": "execute_result"
    }
   ],
   "source": [
    "df.head()"
   ]
  },
  {
   "cell_type": "code",
   "execution_count": 59,
   "metadata": {},
   "outputs": [
    {
     "data": {
      "text/plain": [
       "Index(['loan_amnt', 'int_rate', 'installment', 'annual_inc', 'dti',\n",
       "       'delinq_2yrs', 'inq_last_6mths', 'mths_since_last_delinq',\n",
       "       'mths_since_last_record', 'open_acc',\n",
       "       ...\n",
       "       'home_ownership_nan', 'verification_status_Source Verified',\n",
       "       'verification_status_Verified', 'verification_status_nan',\n",
       "       'term_ 60 months', 'term_nan', 'next_pymnt_d_Jan-2016',\n",
       "       'next_pymnt_d_Mar-2016', 'next_pymnt_d_nan', 'label'],\n",
       "      dtype='object', length=117)"
      ]
     },
     "execution_count": 59,
     "metadata": {},
     "output_type": "execute_result"
    }
   ],
   "source": [
    "df.columns"
   ]
  },
  {
   "cell_type": "code",
   "execution_count": 60,
   "metadata": {},
   "outputs": [],
   "source": [
    "X_processed = df.drop(columns = ['label'])\n",
    "y = df['label']"
   ]
  },
  {
   "cell_type": "code",
   "execution_count": null,
   "metadata": {},
   "outputs": [
    {
     "name": "stdout",
     "output_type": "stream",
     "text": [
      "Logistic Regression: Done (Execution Time: 72.22 seconds)\n",
      "KNN: Done (Execution Time: 0.27 seconds)\n"
     ]
    }
   ],
   "source": [
    "cm.run_classification_models(X_processed, y, grid_search=False)"
   ]
  },
  {
   "cell_type": "code",
   "execution_count": null,
   "metadata": {},
   "outputs": [],
   "source": []
  }
 ],
 "metadata": {
  "kernelspec": {
   "display_name": "Python 3",
   "language": "python",
   "name": "python3"
  },
  "language_info": {
   "codemirror_mode": {
    "name": "ipython",
    "version": 3
   },
   "file_extension": ".py",
   "mimetype": "text/x-python",
   "name": "python",
   "nbconvert_exporter": "python",
   "pygments_lexer": "ipython3",
   "version": "3.6.5"
  }
 },
 "nbformat": 4,
 "nbformat_minor": 2
}
